{
 "cells": [
  {
   "cell_type": "code",
   "execution_count": 1,
   "id": "571b61e0-c426-4964-a60a-ada664605d9b",
   "metadata": {},
   "outputs": [],
   "source": [
    "import torch\n",
    "from IPython.display import Audio, display"
   ]
  },
  {
   "cell_type": "code",
   "execution_count": null,
   "id": "0a75760d-55b3-4db4-af4a-3e25303ca8d4",
   "metadata": {},
   "outputs": [
    {
     "name": "stderr",
     "output_type": "stream",
     "text": [
      "Using cache found in /home/steve/.cache/torch/hub/ex3ndr_supervoice-vocoder_master\n",
      "Using cache found in /home/steve/.cache/torch/hub/ex3ndr_supervoice-gpt_master\n"
     ]
    }
   ],
   "source": [
    "device = torch.device(\"cuda\" if torch.cuda.is_available() else \"cpu\")\n",
    "\n",
    "# Vocoder\n",
    "vocoder = torch.hub.load(repo_or_dir='ex3ndr/supervoice-vocoder', model='bigvsan')\n",
    "vocoder.to(device)\n",
    "vocoder.eval()\n",
    "\n",
    "# GPT Model\n",
    "gpt = torch.hub.load(repo_or_dir='ex3ndr/supervoice-gpt', model='phonemizer')\n",
    "gpt.to(device)\n",
    "gpt.eval()\n",
    "\n",
    "model = torch.hub.load(repo_or_dir='ex3ndr/supervoice', model='phonemizer', gpt=gpt, vocoder=vocoder)\n",
    "model.to(device)\n",
    "model.eval()\n",
    "\n",
    "print(\"ok\")"
   ]
  },
  {
   "cell_type": "code",
   "execution_count": null,
   "id": "ccd36d30-874b-4c7d-b405-c94ea1ae1c51",
   "metadata": {},
   "outputs": [],
   "source": [
    "output = model.synthesize(\"What time is it, Steve?\", voice = \"voice_1\", steps = 8)\n",
    "display(Audio(data=output['wav'], rate=24000))\n",
    "print(output['stats'])"
   ]
  },
  {
   "cell_type": "code",
   "execution_count": null,
   "id": "24452186-0d21-4cf0-8223-9898c9166b9b",
   "metadata": {},
   "outputs": [],
   "source": []
  }
 ],
 "metadata": {
  "kernelspec": {
   "display_name": "Python 3 (ipykernel)",
   "language": "python",
   "name": "python3"
  },
  "language_info": {
   "codemirror_mode": {
    "name": "ipython",
    "version": 3
   },
   "file_extension": ".py",
   "mimetype": "text/x-python",
   "name": "python",
   "nbconvert_exporter": "python",
   "pygments_lexer": "ipython3",
   "version": "3.10.13"
  }
 },
 "nbformat": 4,
 "nbformat_minor": 5
}
