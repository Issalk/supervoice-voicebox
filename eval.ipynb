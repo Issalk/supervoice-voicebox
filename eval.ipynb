{
 "cells": [
  {
   "cell_type": "code",
   "execution_count": 1,
   "id": "571b61e0-c426-4964-a60a-ada664605d9b",
   "metadata": {},
   "outputs": [],
   "source": [
    "import torch\n",
    "from supervoice.model import SuperVoice\n",
    "from train_config import config"
   ]
  },
  {
   "cell_type": "code",
   "execution_count": 5,
   "id": "0a75760d-55b3-4db4-af4a-3e25303ca8d4",
   "metadata": {},
   "outputs": [
    {
     "name": "stdout",
     "output_type": "stream",
     "text": [
      "Removing weight norm...\n"
     ]
    }
   ],
   "source": [
    "# Load model\n",
    "device = \"cpu\"\n",
    "model = SuperVoice(config)\n",
    "model.audio_model.load_state_dict(torch.load(f'./output/audio_fp16_release.pt', map_location=\"cpu\")['model'])\n",
    "# model.duration_model.load_state_dict(torch.load(f'./checkpoints/duration_pre.pt', map_location=\"cpu\")['model'])\n",
    "model.vocoder.load_state_dict(torch.load(f'./pretrained/hifigan.pt', map_location=\"cpu\")['generator'])\n",
    "model.eval()\n",
    "model.vocoder.remove_weight_norm()"
   ]
  },
  {
   "cell_type": "code",
   "execution_count": 6,
   "id": "ccd36d30-874b-4c7d-b405-c94ea1ae1c51",
   "metadata": {},
   "outputs": [
    {
     "data": {
      "text/plain": [
       "['<SIL>',\n",
       " 'm',\n",
       " 'iː',\n",
       " '<SIL>',\n",
       " 'ɡ',\n",
       " 'oʊ',\n",
       " '<SIL>',\n",
       " 'j',\n",
       " 'uː',\n",
       " '<SIL>',\n",
       " 't',\n",
       " 'uː',\n",
       " '<SIL>',\n",
       " 'w',\n",
       " 'ɔ',\n",
       " 'n',\n",
       " 't',\n",
       " '<SIL>',\n",
       " 'ɪ',\n",
       " 'f',\n",
       " '<SIL>',\n",
       " 'aɪ',\n",
       " 'l',\n",
       " '<SIL>']"
      ]
     },
     "execution_count": 6,
     "metadata": {},
     "output_type": "execute_result"
    }
   ],
   "source": [
    "model.tts(\"i'll go if you want me to\")"
   ]
  },
  {
   "cell_type": "code",
   "execution_count": null,
   "id": "24452186-0d21-4cf0-8223-9898c9166b9b",
   "metadata": {},
   "outputs": [],
   "source": []
  }
 ],
 "metadata": {
  "kernelspec": {
   "display_name": "Python 3 (ipykernel)",
   "language": "python",
   "name": "python3"
  },
  "language_info": {
   "codemirror_mode": {
    "name": "ipython",
    "version": 3
   },
   "file_extension": ".py",
   "mimetype": "text/x-python",
   "name": "python",
   "nbconvert_exporter": "python",
   "pygments_lexer": "ipython3",
   "version": "3.10.13"
  }
 },
 "nbformat": 4,
 "nbformat_minor": 5
}
