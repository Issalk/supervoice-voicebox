{
 "cells": [
  {
   "cell_type": "code",
   "execution_count": 1,
   "id": "571b61e0-c426-4964-a60a-ada664605d9b",
   "metadata": {},
   "outputs": [],
   "source": [
    "import torch\n",
    "from supervoice.model import SuperVoice\n",
    "from train_config import config"
   ]
  },
  {
   "cell_type": "code",
   "execution_count": 2,
   "id": "0a75760d-55b3-4db4-af4a-3e25303ca8d4",
   "metadata": {},
   "outputs": [
    {
     "name": "stderr",
     "output_type": "stream",
     "text": [
      "/home/steve/miniconda/envs/gym/lib/python3.10/site-packages/torch/nn/utils/weight_norm.py:30: UserWarning: torch.nn.utils.weight_norm is deprecated in favor of torch.nn.utils.parametrizations.weight_norm.\n",
      "  warnings.warn(\"torch.nn.utils.weight_norm is deprecated in favor of torch.nn.utils.parametrizations.weight_norm.\")\n"
     ]
    },
    {
     "name": "stdout",
     "output_type": "stream",
     "text": [
      "Removing weight norm...\n"
     ]
    }
   ],
   "source": [
    "# Load model\n",
    "device = \"cpu\"\n",
    "model = SuperVoice(config)\n",
    "model.audio_model.load_state_dict(torch.load(f'./checkpoints/audio_v7.pt', map_location=\"cpu\")['model'])\n",
    "model.duration_model.load_state_dict(torch.load(f'./checkpoints/duration_pre.pt', map_location=\"cpu\")['model'])\n",
    "model.vocoder.load_state_dict(torch.load(f'./pretrained/hifigan.pt', map_location=\"cpu\")['generator'])\n",
    "model.eval()\n",
    "model.vocoder.remove_weight_norm()"
   ]
  },
  {
   "cell_type": "code",
   "execution_count": 3,
   "id": "ccd36d30-874b-4c7d-b405-c94ea1ae1c51",
   "metadata": {},
   "outputs": [
    {
     "data": {
      "text/plain": [
       "['<SIL>', 'h', 'ə', 'l', 'oʊ', '<SIL>', 'w', 'ɜː', 'l', 'd', '<SIL>']"
      ]
     },
     "execution_count": 3,
     "metadata": {},
     "output_type": "execute_result"
    }
   ],
   "source": [
    "model.tts(\"hello world\")"
   ]
  },
  {
   "cell_type": "code",
   "execution_count": null,
   "id": "24452186-0d21-4cf0-8223-9898c9166b9b",
   "metadata": {},
   "outputs": [],
   "source": []
  }
 ],
 "metadata": {
  "kernelspec": {
   "display_name": "Python 3 (ipykernel)",
   "language": "python",
   "name": "python3"
  },
  "language_info": {
   "codemirror_mode": {
    "name": "ipython",
    "version": 3
   },
   "file_extension": ".py",
   "mimetype": "text/x-python",
   "name": "python",
   "nbconvert_exporter": "python",
   "pygments_lexer": "ipython3",
   "version": "3.10.13"
  }
 },
 "nbformat": 4,
 "nbformat_minor": 5
}
