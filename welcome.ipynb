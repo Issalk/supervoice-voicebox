{
 "cells": [
  {
   "cell_type": "code",
   "execution_count": 1,
   "id": "97f69095-f2ce-4966-9544-04964e19eaa6",
   "metadata": {},
   "outputs": [],
   "source": [
    "import torch"
   ]
  },
  {
   "cell_type": "markdown",
   "id": "99a44dec-e5e7-4a52-84d7-2f6b03fa2c1e",
   "metadata": {},
   "source": [
    "# SuperVoice welcome notebook\n",
    "This notebook contains various trash code i am using during exploration, nothing to see here, but just in case someone would want to see"
   ]
  },
  {
   "cell_type": "code",
   "execution_count": null,
   "id": "bfb4480c-617a-4d7e-aee3-ea0f63327ff8",
   "metadata": {},
   "outputs": [],
   "source": []
  }
 ],
 "metadata": {
  "kernelspec": {
   "display_name": "Python 3 (ipykernel)",
   "language": "python",
   "name": "python3"
  },
  "language_info": {
   "codemirror_mode": {
    "name": "ipython",
    "version": 3
   },
   "file_extension": ".py",
   "mimetype": "text/x-python",
   "name": "python",
   "nbconvert_exporter": "python",
   "pygments_lexer": "ipython3",
   "version": "3.10.13"
  }
 },
 "nbformat": 4,
 "nbformat_minor": 5
}
