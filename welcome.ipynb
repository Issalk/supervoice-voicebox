{
 "cells": [
  {
   "cell_type": "code",
   "execution_count": 1,
   "id": "97f69095-f2ce-4966-9544-04964e19eaa6",
   "metadata": {},
   "outputs": [],
   "source": [
    "# Base\n",
    "import itertools\n",
    "from glob import glob\n",
    "from tqdm import tqdm\n",
    "import math\n",
    "import textgrid\n",
    "\n",
    "# ML\n",
    "import torch\n",
    "import torch.nn.functional as F\n",
    "from torch.utils.data import DistributedSampler, DataLoader\n",
    "from torch.utils.tensorboard import SummaryWriter\n",
    "\n",
    "# Local\n",
    "from utils.misc import dict_to_object, plot_specgram, plot_waveform\n",
    "from utils.audio import spectogram, load_mono_audio\n",
    "from utils.alignment import init_alignment, alignment\n",
    "from voicebox.model_duration import DurationPredictor\n",
    "from voicebox.tokenizer import Tokenizer"
   ]
  },
  {
   "cell_type": "code",
   "execution_count": 2,
   "id": "08046af5-d95f-4c9c-88ee-5d693d1b752b",
   "metadata": {},
   "outputs": [],
   "source": [
    "# Load text grid files\n",
    "files = glob(\"datasets/vctk-aligned/**/*.TextGrid\")\n",
    "files = [textgrid.TextGrid.fromFile(f) for f in files]"
   ]
  },
  {
   "cell_type": "code",
   "execution_count": 3,
   "id": "b7582c1e-f9b0-4c2f-bf09-260faeabfe8d",
   "metadata": {},
   "outputs": [],
   "source": []
  },
  {
   "cell_type": "code",
   "execution_count": 4,
   "id": "c5e7a5b4-f033-4ed8-a0e5-c15052d002c5",
   "metadata": {},
   "outputs": [
    {
     "data": {
      "text/plain": [
       "(tensor([[0, 0, 0, 0, 0, 0, 0, 0, 0, 0, 0, 0, 0, 0, 0, 0, 0, 0, 0, 0, 0, 0, 0, 0,\n",
       "          0]]),\n",
       " tensor(8.7147, grad_fn=<MeanBackward0>))"
      ]
     },
     "execution_count": 4,
     "metadata": {},
     "output_type": "execute_result"
    }
   ],
   "source": [
    "# Model and tokenizer\n",
    "tokenizer = Tokenizer()\n",
    "model = DurationPredictor(tokenizer.n_tokens)\n",
    "\n",
    "# Extract data\n",
    "def extract_data(src):\n",
    "\n",
    "    # Prepare\n",
    "    token_duration = 0.01\n",
    "    tokens = src[1]\n",
    "    time = 0\n",
    "    output_tokens = []\n",
    "    output_durations = []\n",
    "\n",
    "    # Iterate over tokens\n",
    "    for t in tokens:\n",
    "\n",
    "        # Resolve durations\n",
    "        ends = t.maxTime\n",
    "        duration = math.floor((ends - time) / token_duration)\n",
    "        time = ends\n",
    "\n",
    "        # Resolve token\n",
    "        tok = t.mark\n",
    "        if tok == '':\n",
    "            tok = tokenizer.silence_token\n",
    "\n",
    "        # Apply\n",
    "        output_tokens.append(tok)\n",
    "        output_durations.append(duration)\n",
    "\n",
    "    # Trim start silence\n",
    "    if output_tokens[0] == 'SIL' and output_durations[0] > 1:\n",
    "        output_durations[0] = 1\n",
    "\n",
    "    # Outputs\n",
    "    return output_tokens, output_durations\n",
    "\n",
    "sample_tokens, sample_durations = extract_data(files[0])\n",
    "sample_tokens = tokenizer(sample_tokens)\n",
    "model(sample_tokens.unsqueeze(0), torch.Tensor(sample_durations).unsqueeze(0), torch.ones(len(sample_durations)).unsqueeze(0).bool(), torch.Tensor(sample_durations).unsqueeze(0))\n",
    "    \n"
   ]
  },
  {
   "cell_type": "code",
   "execution_count": null,
   "id": "077863d8-bcc9-4cd6-a8e4-6722645f166b",
   "metadata": {},
   "outputs": [],
   "source": []
  }
 ],
 "metadata": {
  "kernelspec": {
   "display_name": "Python 3 (ipykernel)",
   "language": "python",
   "name": "python3"
  },
  "language_info": {
   "codemirror_mode": {
    "name": "ipython",
    "version": 3
   },
   "file_extension": ".py",
   "mimetype": "text/x-python",
   "name": "python",
   "nbconvert_exporter": "python",
   "pygments_lexer": "ipython3",
   "version": "3.10.13"
  }
 },
 "nbformat": 4,
 "nbformat_minor": 5
}
