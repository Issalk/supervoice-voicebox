{
 "cells": [
  {
   "cell_type": "code",
   "execution_count": 3,
   "id": "97f69095-f2ce-4966-9544-04964e19eaa6",
   "metadata": {},
   "outputs": [],
   "source": [
    "# Base\n",
    "import itertools\n",
    "from glob import glob\n",
    "from tqdm import tqdm\n",
    "import math\n",
    "\n",
    "# ML\n",
    "import torch\n",
    "import torch.nn.functional as F\n",
    "from torch.utils.data import DistributedSampler, DataLoader\n",
    "from torch.utils.tensorboard import SummaryWriter\n",
    "\n",
    "# Local\n",
    "from utils.misc import dict_to_object, plot_specgram, plot_waveform\n",
    "from utils.audio import spectogram, load_mono_audio\n",
    "from utils.alignment import init_alignment, alignment"
   ]
  },
  {
   "cell_type": "code",
   "execution_count": 4,
   "id": "a43fa5d7-7480-4c17-a131-86498b885553",
   "metadata": {},
   "outputs": [],
   "source": [
    "device = \"cpu\"\n",
    "init_alignment(device)\n",
    "waveform = load_mono_audio(\"./external_datasets/lj-speech-1.1/wavs/LJ005-0006.wav\", 16000).to(device)\n",
    "text = \"who handed a shilling to the escort warder to provide her with a hackney coach; but this functionary pocketed the cash, and obliged the woman to walk\""
   ]
  },
  {
   "cell_type": "code",
   "execution_count": 5,
   "id": "babf9884-4dcc-475f-9767-58481fa206c7",
   "metadata": {},
   "outputs": [
    {
     "data": {
      "text/plain": [
       "[('who', 0.0, 0.006493506493506494),\n",
       " ('handed', 0.017316017316017316, 0.05411255411255411),\n",
       " ('a', 0.06060606060606061, 0.06277056277056277),\n",
       " ('shilling', 0.08008658008658008, 0.11688311688311688),\n",
       " ('to', 0.12337662337662338, 0.12987012987012986),\n",
       " ('the', 0.1341991341991342, 0.14285714285714285),\n",
       " ('escort', 0.16017316017316016, 0.2077922077922078),\n",
       " ('warder', 0.22077922077922077, 0.2619047619047619),\n",
       " ('to', 0.27705627705627706, 0.2857142857142857),\n",
       " ('provide', 0.29004329004329005, 0.33766233766233766),\n",
       " ('her', 0.341991341991342, 0.354978354978355),\n",
       " ('with', 0.36363636363636365, 0.3787878787878788),\n",
       " ('a', 0.38095238095238093, 0.38311688311688313),\n",
       " ('hackney', 0.38961038961038963, 0.43506493506493504),\n",
       " ('coach', 0.44155844155844154, 0.487012987012987),\n",
       " ('but', 0.5562770562770563, 0.5692640692640693),\n",
       " ('this', 0.5735930735930735, 0.5909090909090909),\n",
       " ('functionary', 0.6038961038961039, 0.6666666666666666),\n",
       " ('pocketed', 0.6774891774891775, 0.7316017316017316),\n",
       " ('the', 0.7359307359307359, 0.7445887445887446),\n",
       " ('cash', 0.7489177489177489, 0.7943722943722944),\n",
       " ('and', 0.8051948051948052, 0.816017316017316),\n",
       " ('obliged', 0.8181818181818182, 0.8701298701298701),\n",
       " ('the', 0.8744588744588745, 0.8852813852813853),\n",
       " ('woman', 0.8874458874458875, 0.9155844155844156),\n",
       " ('to', 0.922077922077922, 0.9307359307359307),\n",
       " ('walk', 0.9437229437229437, 0.9826839826839827)]"
      ]
     },
     "execution_count": 5,
     "metadata": {},
     "output_type": "execute_result"
    }
   ],
   "source": [
    "alignment(waveform, text, 16000)"
   ]
  },
  {
   "cell_type": "code",
   "execution_count": 8,
   "id": "838c1315-c9da-4b0f-9772-8bc528c6c461",
   "metadata": {},
   "outputs": [],
   "source": [
    "def get_slopes_power_of_2(n):\n",
    "    start = (2**(-2**-(math.log2(n)-3)))\n",
    "    ratio = start\n",
    "    return [start*ratio**i for i in range(n)]\n",
    "def get_slopes(n):\n",
    "    if math.log2(n).is_integer():\n",
    "        return get_slopes_power_of_2(n)                   #In the paper, we only train models that have 2^a heads for some a. This function has\n",
    "    else:                                                 #some good properties that only occur when the input is a power of 2. To maintain that even\n",
    "        closest_power_of_2 = 2**math.floor(math.log2(n))  #when the number of heads is not a power of 2, we use this workaround. \n",
    "    return get_slopes_power_of_2(closest_power_of_2) + get_slopes(2*closest_power_of_2)[0::2][:n-closest_power_of_2]"
   ]
  },
  {
   "cell_type": "code",
   "execution_count": 15,
   "id": "4192bc05-6dc9-49a4-8321-53c9b8853d97",
   "metadata": {},
   "outputs": [
    {
     "data": {
      "text/plain": [
       "[0.7071067811865476,\n",
       " 0.5000000000000001,\n",
       " 0.35355339059327384,\n",
       " 0.25000000000000006,\n",
       " 0.17677669529663692,\n",
       " 0.12500000000000006,\n",
       " 0.08838834764831849,\n",
       " 0.06250000000000004,\n",
       " 0.044194173824159244,\n",
       " 0.03125000000000002,\n",
       " 0.022097086912079626,\n",
       " 0.01562500000000001,\n",
       " 0.011048543456039816,\n",
       " 0.007812500000000007,\n",
       " 0.005524271728019908,\n",
       " 0.003906250000000004]"
      ]
     },
     "execution_count": 15,
     "metadata": {},
     "output_type": "execute_result"
    }
   ],
   "source": [
    "get_slopes(16)"
   ]
  },
  {
   "cell_type": "code",
   "execution_count": null,
   "id": "08046af5-d95f-4c9c-88ee-5d693d1b752b",
   "metadata": {},
   "outputs": [],
   "source": []
  }
 ],
 "metadata": {
  "kernelspec": {
   "display_name": "Python 3 (ipykernel)",
   "language": "python",
   "name": "python3"
  },
  "language_info": {
   "codemirror_mode": {
    "name": "ipython",
    "version": 3
   },
   "file_extension": ".py",
   "mimetype": "text/x-python",
   "name": "python",
   "nbconvert_exporter": "python",
   "pygments_lexer": "ipython3",
   "version": "3.10.13"
  }
 },
 "nbformat": 4,
 "nbformat_minor": 5
}
