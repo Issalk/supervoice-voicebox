{
 "cells": [
  {
   "cell_type": "code",
   "execution_count": 1,
   "id": "97f69095-f2ce-4966-9544-04964e19eaa6",
   "metadata": {},
   "outputs": [],
   "source": [
    "# Base\n",
    "import itertools\n",
    "from glob import glob\n",
    "from tqdm import tqdm\n",
    "import math\n",
    "import textgrid\n",
    "import random\n",
    "\n",
    "# ML\n",
    "import torch\n",
    "import torch.nn.functional as F\n",
    "from torch.utils.data import DistributedSampler, DataLoader\n",
    "from torch.utils.tensorboard import SummaryWriter\n",
    "\n",
    "# Local\n",
    "from utils.misc import dict_to_object, plot_specgram, plot_waveform\n",
    "from utils.audio import spectogram, load_mono_audio\n",
    "from utils.alignment import init_alignment, alignment\n",
    "from voicebox.model_duration import DurationPredictor\n",
    "from voicebox.tokenizer import Tokenizer"
   ]
  },
  {
   "cell_type": "code",
   "execution_count": 2,
   "id": "08046af5-d95f-4c9c-88ee-5d693d1b752b",
   "metadata": {},
   "outputs": [
    {
     "name": "stdout",
     "output_type": "stream",
     "text": [
      "88145\n"
     ]
    }
   ],
   "source": [
    "# Load text grid files\n",
    "files = glob(\"datasets/vctk-aligned/**/*.TextGrid\")\n",
    "print(len(files))\n",
    "files = files[0:10]\n",
    "files = [textgrid.TextGrid.fromFile(f) for f in files]"
   ]
  },
  {
   "cell_type": "code",
   "execution_count": 3,
   "id": "8c07a148-f9d2-448d-b154-48a820c2c624",
   "metadata": {},
   "outputs": [],
   "source": [
    "# Tokenizer\n",
    "tokenizer = Tokenizer()\n",
    "\n",
    "# Data extractor\n",
    "def extract_data(src):\n",
    "\n",
    "    # Prepare\n",
    "    token_duration = 0.01\n",
    "    tokens = src[1]\n",
    "    time = 0\n",
    "    output_tokens = []\n",
    "    output_durations = []\n",
    "\n",
    "    # Iterate over tokens\n",
    "    for t in tokens:\n",
    "\n",
    "        # Resolve durations\n",
    "        ends = t.maxTime\n",
    "        duration = math.floor((ends - time) / token_duration)\n",
    "        time = ends\n",
    "\n",
    "        # Resolve token\n",
    "        tok = t.mark\n",
    "        if tok == '':\n",
    "            tok = tokenizer.silence_token\n",
    "\n",
    "        # Apply\n",
    "        output_tokens.append(tok)\n",
    "        output_durations.append(duration)\n",
    "\n",
    "    # Trim start silence\n",
    "    if output_tokens[0] == 'SIL' and output_durations[0] > 1:\n",
    "        output_durations[0] = 1\n",
    "    if output_tokens[len(output_tokens) - 1] == 'SIL' and output_durations[len(output_durations) - 1] > 1:\n",
    "        output_durations[len(output_durations) - 1] = 1\n",
    "\n",
    "    # Outputs\n",
    "    return output_tokens, output_durations\n",
    "    \n",
    "class TextGridDataset(torch.utils.data.Dataset):\n",
    "    def __init__(self, files):\n",
    "        self.files = files\n",
    "    def __len__(self):\n",
    "        return len(self.files)        \n",
    "    def __getitem__(self, index):\n",
    "        tg = self.files[index]\n",
    "\n",
    "        # Load tokens/durations\n",
    "        tokens, durations = extract_data(tg)\n",
    "        tokens = tokenizer(tokens)\n",
    "        durations = torch.Tensor(durations)\n",
    "\n",
    "        # Calculate mask        \n",
    "        mask_len = random.uniform(0.3, 0.7)\n",
    "        mask_offset = random.uniform(0, 1 - mask_len)\n",
    "        mask = torch.zeros(len(durations))\n",
    "        mask_start = math.floor(mask_offset * len(durations))\n",
    "        mask_end = math.floor((mask_offset + mask_len) * len(durations))\n",
    "        mask[mask_start : mask_end] = 1\n",
    "        mask = mask.bool()\n",
    "\n",
    "        # Result\n",
    "        return tokens, durations, mask\n"
   ]
  },
  {
   "cell_type": "code",
   "execution_count": 6,
   "id": "c5e7a5b4-f033-4ed8-a0e5-c15052d002c5",
   "metadata": {},
   "outputs": [
    {
     "data": {
      "text/plain": [
       "<All keys matched successfully>"
      ]
     },
     "execution_count": 6,
     "metadata": {},
     "output_type": "execute_result"
    }
   ],
   "source": [
    "\n",
    "# Dataset, model, optimizer\n",
    "device = \"cuda\"\n",
    "dataset = TextGridDataset(files)\n",
    "dataloader = DataLoader(dataset, batch_size = 1)\n",
    "model = DurationPredictor(tokenizer.n_tokens)\n",
    "model = model.to(device)\n",
    "optim = torch.optim.AdamW(model.parameters(), 0.0002, betas=[0.8, 0.99])\n",
    "\n",
    "checkpoint = torch.load(f'./checkpoints/duration_vctk_long.pt')\n",
    "model.load_state_dict(checkpoint['model'])\n"
   ]
  },
  {
   "cell_type": "code",
   "execution_count": null,
   "id": "551abfe8-40db-4e3f-900c-979821b1de39",
   "metadata": {},
   "outputs": [],
   "source": []
  },
  {
   "cell_type": "code",
   "execution_count": 7,
   "id": "3d37ab71-8350-4499-8f89-e0dd4180c291",
   "metadata": {},
   "outputs": [
    {
     "name": "stdout",
     "output_type": "stream",
     "text": [
      "Loss: 0.11700969189405441\n",
      "     SIL      d̪      ej       m       ə       s       æ       k       t       n      aw      tʰ       ʊ      tʰ      aj       t       ə       n      d̪       ə       ɹ      ʉː       ɫ       z     SIL\n",
      "       1       5       6       6       4      10      10       6       4       3      12       9       3       9      12       9       3       4       4       3       7       6      11      16       6\n",
      "       1       6       5       6       5       7      15       4       5       5      14       8       4       9      10       3       2       3       4       4      10       5      12      20       1\n",
      "       0       0       0       0       0       0       0       0       0       0       1       1       1       1       1       1       1       1       1       1       1       1       1       0       0\n",
      "Loss: 0.14835350215435028\n",
      "     SIL       h      ow       p       f       ə       ʎ       i     SIL       ɪ       w       ə       ɫ      kʰ       ɐ       m       f       ɹ       ə       m       s       ɐ       m       w       ɐ       n       ɑ       n       ɑ       ɹ       s      aj       ɾ     SIL\n",
      "       1       9       8       4       6       3       6      17       5       7       6       3       4      10       4       7       7       2       3       5      10       5       5       4       7       6       8       5       7       7      11      21       7       6\n",
      "       1       7       7       5       8       3       8      16       3       8       3       4       5      11       6       8       4       3       4       4       8       4       2       3       6       6       9       7       8      12      10      18       8       1\n",
      "       1       1       1       1       1       1       1       1       1       1       1       1       1       1       1       1       1       1       1       1       1       1       1       0       0       0       0       0       0       0       0       0       0       0\n",
      "Loss: 0.11496990919113159\n",
      "     SIL       θ      aw       z       ə       n       d       z       ə       v       h      ow       m       z       w       ɚ       l       ɛ       f       t       w       ɪ      d̪      aw       ʔ      pʰ      aw       ɹ       s       ə       p       l      aj       z     SIL\n",
      "       0       8      13       6       4       5       2       8       4       4       7       8       7       7       4       5       7       6      10       5       4       4       4      10       4      10      11       6      10       3       8       4      17      18       4\n",
      "       1       4      12       7       6       3       2       6       5       3       8      15       9      11       3       4       8       9       6       4       3       3       6      14       2       9      12       8      10       4       6       4      18      19       1\n",
      "       0       0       0       1       1       1       1       1       1       1       1       1       1       1       1       1       1       1       1       0       0       0       0       0       0       0       0       0       0       0       0       0       0       0       0\n",
      "Loss: 0.15370939671993256\n",
      "     SIL       m      ow       s       ə      d̪       ə      pʰ       ɐ      bʲ       ʎ       ɪ       k     SIL       ɑ       ɹ       b       ə       h      aj       n       d      mʲ       i     SIL\n",
      "       0       7       8      12       3       4       4       9       5       5       4       6       9       6      11       4       5       3       8       9       6       2       6      18       6\n",
      "       1       7       8      12       4       6       3      10       7       5       2       7       6       3       5       3       4       4      10       9       7       2       7      20       1\n",
      "       0       0       0       0       0       0       1       1       1       1       1       1       1       1       1       1       1       1       1       1       1       0       0       0       0\n",
      "Loss: 0.13202738761901855\n",
      "     SIL       ɹ       ɑ       b       ɚ       t       ɪ       z       ə       s       p       ɛ       ʃ       ə       ɫ      tʰ       æ       l       ə       n       t     SIL\n",
      "       2       7       9       6       6       9       5       6       5       8       6       6      11       3       3      11       8       5       7       6       8       7\n",
      "       1       8       9       4       9       5       6       6       4      12       6       6      11       5       6      11       8       8       6       6      18       1\n",
      "       0       0       0       0       1       1       1       1       1       1       1       1       1       1       1       1       1       1       1       0       0       0\n",
      "Loss: 0.1485612690448761\n",
      "     SIL       ɛ       v       ɹ       i      t̪       ɪ       ŋ       ɛ       ɫ       s       ɪ       z       s       ɛ       k       ə       n       d     SIL\n",
      "       1      11       5       3       5       5       5       6       7       5      10       4       4      10       7      10       4      12       2      11\n",
      "       1      10       3       3       3       6       9       5       6       5      10       7       3      10       7       9       3      11       2       1\n",
      "       1       1       1       1       1       1       1       1       1       1       1       1       1       0       0       0       0       0       0       0\n",
      "Loss: 0.038978394120931625\n",
      "     SIL      d̪       ɛ       ɹ       w       ə       z       n      ow       ɹ       ɛ       s       c      ʉː     SIL\n",
      "       0       6       3       3       2       4       7       6       9       8       6      12       7      18       5\n",
      "       1       5       5       3       3       4       8       6      14       7       6      13       6      19       1\n",
      "       0       0       0       1       1       1       1       1       1       0       0       0       0       0       0\n",
      "Loss: 0.14433547854423523\n",
      "     SIL      aj       æ       m       p       ɹ      aw       ɾ       ə       v       m      ow       m       ɛ       n       t       s       l      aj       k      d̪       æ       ʔ     SIL\n",
      "       1       9       6       5       7       4      10       4       3       6       6       8       6       5       5       4       7       3       7       7       5      10       5       4\n",
      "       1      13       5       7       8       4       7       5       3       5       6       6       7       3       2       3       5       3       7       7       5      12       4       1\n",
      "       0       0       0       0       1       1       1       1       1       1       1       1       1       1       1       1       1       1       1       0       0       0       0       0\n",
      "Loss: 0.1645004004240036\n",
      "     SIL       m      aj       f       ɝ       s       s      iː       z       ə       n       ɪ       n       s       k       ɑ       t       l       ə       n       d       w       ə       z       f       æ       n      tʰ       æ       s      tʲ       ɪ       k     SIL\n",
      "       9       6       7      11       9       5       9       8       6       3       4       6       5      10       6       8       4       3       4       5       1       5       4       6       8       8       5       9      10      11       4       6      12       4\n",
      "       1       5       6      11       6       7       9       8       6       7       6       3       3      10       5       7       3       5       5       2       2       3       2       8       8      10       6       8      10      12       4       9      17       1\n",
      "       0       0       0       0       0       0       0       0       1       1       1       1       1       1       1       1       1       1       1       1       1       1       1       1       1       1       1       1       1       1       0       0       0       0\n",
      "Loss: 0.08469009399414062\n",
      "     SIL      aj       h       æ       v      bʲ       ɪ       n       ç       ɪ       ɹ       f       ɚ      ow       ɲ       ʎ       i       θ       ɹ      iː       m       ɐ       n       θ       s     SIL\n",
      "       1      10       8       6       5       4       7       4       8       8       5      10       5       8       5       4       6      13       7       9       7       7       8       6      17       6\n",
      "       1      12       3       3       3       8       8       3       6       7       3       9       4       8       6       5       4      12       7       6       7       8       5       8      15       1\n",
      "       0       0       0       0       0       1       1       1       1       1       1       1       1       1       1       1       0       0       0       0       0       0       0       0       0       0\n"
     ]
    }
   ],
   "source": [
    "for i in range(10):\n",
    "    # Predict\n",
    "    tokens, durations, mask = dataset[i]\n",
    "    predicted, z, target, loss = model(tokens.unsqueeze(0).to(device), durations.unsqueeze(0).to(device), mask.unsqueeze(0).to(device), target = durations.unsqueeze(0).to(device))\n",
    "    predicted = predicted.squeeze()\n",
    "\n",
    "    # Log\n",
    "    print(f'Loss: {loss.item()}')\n",
    "    print(''.join(f\"{tokenizer.tokens[num]:>8}\" for num in tokens.tolist()))\n",
    "    print(''.join(f\"{num:8}\" for num in predicted.tolist()))\n",
    "    print(''.join(f\"{int(num):8}\" for num in durations.tolist()))\n",
    "    print(''.join(f\"{int(num):8}\" for num in mask.tolist()))"
   ]
  },
  {
   "cell_type": "code",
   "execution_count": null,
   "id": "895fbc3e-ef49-4467-a77b-613919d6d06f",
   "metadata": {},
   "outputs": [],
   "source": []
  }
 ],
 "metadata": {
  "kernelspec": {
   "display_name": "Python 3 (ipykernel)",
   "language": "python",
   "name": "python3"
  },
  "language_info": {
   "codemirror_mode": {
    "name": "ipython",
    "version": 3
   },
   "file_extension": ".py",
   "mimetype": "text/x-python",
   "name": "python",
   "nbconvert_exporter": "python",
   "pygments_lexer": "ipython3",
   "version": "3.10.13"
  }
 },
 "nbformat": 4,
 "nbformat_minor": 5
}
